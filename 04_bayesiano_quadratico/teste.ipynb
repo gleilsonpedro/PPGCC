{
 "cells": [
  {
   "cell_type": "code",
   "execution_count": 3,
   "metadata": {},
   "outputs": [
    {
     "name": "stdout",
     "output_type": "stream",
     "text": [
      "Dataset Customizado:\n",
      "X:\n",
      "[[ 0.29254831  0.33544821]\n",
      " [ 0.24928645 -0.72765086]\n",
      " [ 0.42051987  0.36378828]\n",
      " [ 0.74722536 -0.32816969]\n",
      " [ 0.40030942  1.13913346]\n",
      " [-0.01563448  0.66438469]\n",
      " [ 0.8043956  -1.22610012]\n",
      " [-0.10832735 -0.51920298]\n",
      " [ 0.43018038  1.31389117]\n",
      " [ 0.48007803  0.42317186]\n",
      " [ 1.99759041  1.48507023]\n",
      " [ 0.59285089  0.50127209]\n",
      " [ 0.58177213  1.17562229]\n",
      " [ 1.42983019  1.52786962]\n",
      " [ 1.05014746  0.55807771]\n",
      " [ 1.12760409  0.95100691]\n",
      " [ 1.54954316  1.89834662]\n",
      " [ 0.65315017  1.90607769]\n",
      " [ 1.51344862  2.31750303]\n",
      " [ 1.94863639  1.9087139 ]\n",
      " [ 2.79820297  0.87661481]\n",
      " [ 1.75810875  0.3664212 ]\n",
      " [ 1.80015595  1.79817396]]\n",
      "y:\n",
      "[0 0 0 0 0 0 0 0 1 1 1 1 1 1 1 1 2 2 2 2 2 2 2]\n",
      "Forma de X: (23, 2)\n",
      "Forma de y: (23,)\n"
     ]
    }
   ],
   "source": [
    "import numpy as np\n",
    "\n",
    "def generate_custom_dataset():\n",
    "    # Definir o número de amostras por classe\n",
    "    n_samples_per_class = [8, 8, 7]\n",
    "\n",
    "    # Definir o número total de classes\n",
    "    n_classes = len(n_samples_per_class)\n",
    "\n",
    "    # Definir o número de atributos por amostra\n",
    "    n_features = 2\n",
    "\n",
    "    # Inicializar uma lista para armazenar as amostras e rótulos\n",
    "    X = []\n",
    "    y = []\n",
    "\n",
    "    # Gerar amostras para cada classe\n",
    "    for class_idx, n_samples in enumerate(n_samples_per_class):\n",
    "        # Gerar amostras com base na classe\n",
    "        for _ in range(n_samples):\n",
    "            # Amostra com distribuição normal centrada em (class_idx, class_idx)\n",
    "            sample = np.random.normal(loc=class_idx, scale=0.5, size=n_features)\n",
    "            X.append(sample)\n",
    "            y.append(class_idx)\n",
    "\n",
    "    # Converter listas para arrays numpy\n",
    "    X = np.array(X)\n",
    "    y = np.array(y)\n",
    "\n",
    "    return X, y\n",
    "\n",
    "# Teste da função\n",
    "X_custom, y_custom = generate_custom_dataset()\n",
    "print(\"Dataset Customizado:\")\n",
    "print(\"X:\")\n",
    "print(X_custom)\n",
    "print(\"y:\")\n",
    "print(y_custom)\n",
    "print(\"Forma de X:\", X_custom.shape)\n",
    "print(\"Forma de y:\", y_custom.shape)\n"
   ]
  }
 ],
 "metadata": {
  "kernelspec": {
   "display_name": "env",
   "language": "python",
   "name": "python3"
  },
  "language_info": {
   "codemirror_mode": {
    "name": "ipython",
    "version": 3
   },
   "file_extension": ".py",
   "mimetype": "text/x-python",
   "name": "python",
   "nbconvert_exporter": "python",
   "pygments_lexer": "ipython3",
   "version": "3.11.7"
  }
 },
 "nbformat": 4,
 "nbformat_minor": 2
}
